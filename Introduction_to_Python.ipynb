{
  "nbformat": 4,
  "nbformat_minor": 0,
  "metadata": {
    "colab": {
      "provenance": [],
      "authorship_tag": "ABX9TyNZ6Kecs+wlMHyYIhcWrO5R",
      "include_colab_link": true
    },
    "kernelspec": {
      "name": "python3",
      "display_name": "Python 3"
    },
    "language_info": {
      "name": "python"
    }
  },
  "cells": [
    {
      "cell_type": "markdown",
      "metadata": {
        "id": "view-in-github",
        "colab_type": "text"
      },
      "source": [
        "<a href=\"https://colab.research.google.com/github/GamalAbouhalima/ICPC-Assuit-Sheets_Contest_One_Java/blob/main/Introduction_to_Python.ipynb\" target=\"_parent\"><img src=\"https://colab.research.google.com/assets/colab-badge.svg\" alt=\"Open In Colab\"/></a>"
      ]
    },
    {
      "cell_type": "markdown",
      "source": [
        "#Introduction to python\n"
      ],
      "metadata": {
        "id": "g-OOTsJIaIgd"
      }
    },
    {
      "cell_type": "code",
      "execution_count": null,
      "metadata": {
        "colab": {
          "base_uri": "https://localhost:8080/"
        },
        "id": "HBOneDeISPo0",
        "outputId": "37ac476f-36ef-4bd6-a3e9-169adf9b8de1"
      },
      "outputs": [
        {
          "output_type": "stream",
          "name": "stdout",
          "text": [
            "Hello Gamal\n"
          ]
        }
      ],
      "source": [
        "print(\"Hello\",\"Gamal\")"
      ]
    },
    {
      "cell_type": "code",
      "source": [
        "name=input(\"What is Your Name? \")\n",
        "print (\"Hello\",name)"
      ],
      "metadata": {
        "colab": {
          "base_uri": "https://localhost:8080/"
        },
        "id": "5Phwe_MpWcGU",
        "outputId": "56f1357b-0f61-4b12-ccf5-2380c5051aa9"
      },
      "execution_count": null,
      "outputs": [
        {
          "output_type": "stream",
          "name": "stdout",
          "text": [
            "What is Your Name? Gamal\n",
            "Hello Gamal\n"
          ]
        }
      ]
    },
    {
      "cell_type": "code",
      "source": [
        "num1=int (input(\"Enter number One: \"))\n",
        "num2=int (input(\"Enter number Two: \"))\n",
        "print(\"Sum = \",num1+num2)"
      ],
      "metadata": {
        "colab": {
          "base_uri": "https://localhost:8080/"
        },
        "id": "0p7bIVN9XSQp",
        "outputId": "067a342d-d1ab-4089-841e-f9d44db1f5f5"
      },
      "execution_count": null,
      "outputs": [
        {
          "output_type": "stream",
          "name": "stdout",
          "text": [
            "Enter number One: 10\n",
            "Enter number Two: 12\n",
            "Sum =  22\n"
          ]
        }
      ]
    },
    {
      "cell_type": "code",
      "source": [
        "x=\"Gamal\"\n",
        "x=25\n",
        "print(x)"
      ],
      "metadata": {
        "colab": {
          "base_uri": "https://localhost:8080/"
        },
        "id": "ie_cjXhoYTep",
        "outputId": "9ba8f195-74da-4438-f9ef-493ffa2ad51f"
      },
      "execution_count": null,
      "outputs": [
        {
          "output_type": "stream",
          "name": "stdout",
          "text": [
            "25\n"
          ]
        }
      ]
    },
    {
      "cell_type": "markdown",
      "source": [
        "#Type Conversion\n"
      ],
      "metadata": {
        "id": "ZEqvl3MHajEh"
      }
    },
    {
      "cell_type": "code",
      "source": [
        "x=2\n",
        "x=float(x)\n",
        "print(x)"
      ],
      "metadata": {
        "colab": {
          "base_uri": "https://localhost:8080/"
        },
        "id": "2JGzmcSmY59b",
        "outputId": "198f1c5a-0126-4d6e-9b44-22fe629fbffe"
      },
      "execution_count": null,
      "outputs": [
        {
          "output_type": "stream",
          "name": "stdout",
          "text": [
            "2.0\n"
          ]
        }
      ]
    },
    {
      "cell_type": "code",
      "source": [
        "x=3.9\n",
        "x=int(x)\n",
        "print(x)"
      ],
      "metadata": {
        "colab": {
          "base_uri": "https://localhost:8080/"
        },
        "id": "tmvq-NhCZLns",
        "outputId": "4381c37b-6bf5-4841-c33c-c42aa46c1e94"
      },
      "execution_count": null,
      "outputs": [
        {
          "output_type": "stream",
          "name": "stdout",
          "text": [
            "3\n"
          ]
        }
      ]
    },
    {
      "cell_type": "code",
      "source": [
        "b=True\n",
        "b=int(b)\n",
        "print(b)"
      ],
      "metadata": {
        "colab": {
          "base_uri": "https://localhost:8080/"
        },
        "id": "JIBhjcjZZYEC",
        "outputId": "8c00f287-47af-4548-e0be-b051dad06510"
      },
      "execution_count": null,
      "outputs": [
        {
          "output_type": "stream",
          "name": "stdout",
          "text": [
            "1\n"
          ]
        }
      ]
    },
    {
      "cell_type": "code",
      "source": [
        "c=True\n",
        "c=float(c)\n",
        "print(c)"
      ],
      "metadata": {
        "colab": {
          "base_uri": "https://localhost:8080/"
        },
        "id": "MH_r8WZVZf_l",
        "outputId": "27e9e463-589e-4b73-fc3d-b295f5ca5e11"
      },
      "execution_count": null,
      "outputs": [
        {
          "output_type": "stream",
          "name": "stdout",
          "text": [
            "1.0\n"
          ]
        }
      ]
    },
    {
      "cell_type": "code",
      "source": [
        "d=9\n",
        "d=bool(d)\n",
        "print(d)"
      ],
      "metadata": {
        "colab": {
          "base_uri": "https://localhost:8080/"
        },
        "id": "61ENyugiZyTY",
        "outputId": "de46bbcb-ea9e-4025-9187-a11ad4e7566e"
      },
      "execution_count": null,
      "outputs": [
        {
          "output_type": "stream",
          "name": "stdout",
          "text": [
            "True\n"
          ]
        }
      ]
    },
    {
      "cell_type": "code",
      "source": [
        "d=0\n",
        "d=bool(d)\n",
        "print(d)"
      ],
      "metadata": {
        "colab": {
          "base_uri": "https://localhost:8080/"
        },
        "id": "MrCrKelbZ6J9",
        "outputId": "307d3c10-a73f-4907-8763-e34495d8d4ae"
      },
      "execution_count": null,
      "outputs": [
        {
          "output_type": "stream",
          "name": "stdout",
          "text": [
            "False\n"
          ]
        }
      ]
    },
    {
      "cell_type": "code",
      "source": [
        "d=-9\n",
        "d=bool(d)\n",
        "print(d)"
      ],
      "metadata": {
        "colab": {
          "base_uri": "https://localhost:8080/"
        },
        "id": "dPHeIQFMaAcF",
        "outputId": "6b91e138-88fc-4eca-beb9-145c5ab434f8"
      },
      "execution_count": null,
      "outputs": [
        {
          "output_type": "stream",
          "name": "stdout",
          "text": [
            "True\n"
          ]
        }
      ]
    },
    {
      "cell_type": "code",
      "source": [
        "x=8\n",
        "x=str(x)\n",
        "print(x)"
      ],
      "metadata": {
        "colab": {
          "base_uri": "https://localhost:8080/"
        },
        "id": "hv97kTc5aNhM",
        "outputId": "0f080257-4b61-49dc-841b-184c532c577e"
      },
      "execution_count": null,
      "outputs": [
        {
          "output_type": "stream",
          "name": "stdout",
          "text": [
            "8\n"
          ]
        }
      ]
    },
    {
      "cell_type": "code",
      "source": [
        "y=x+\"5\"\n",
        "y"
      ],
      "metadata": {
        "colab": {
          "base_uri": "https://localhost:8080/",
          "height": 35
        },
        "id": "kBTCVq0va2BN",
        "outputId": "cd2c2be7-3363-4635-a94b-c2be28c5c9de"
      },
      "execution_count": null,
      "outputs": [
        {
          "output_type": "execute_result",
          "data": {
            "text/plain": [
              "'85'"
            ],
            "application/vnd.google.colaboratory.intrinsic+json": {
              "type": "string"
            }
          },
          "metadata": {},
          "execution_count": 20
        }
      ]
    },
    {
      "cell_type": "markdown",
      "source": [
        "#Convert from STring to Boolean\n"
      ],
      "metadata": {
        "id": "nTo6GNvpcqzn"
      }
    },
    {
      "cell_type": "code",
      "source": [
        "x=\"Hello\"\n",
        "x=bool(x)\n",
        "print(x)"
      ],
      "metadata": {
        "colab": {
          "base_uri": "https://localhost:8080/"
        },
        "id": "Hg6kJ-HxbLYS",
        "outputId": "719b45f4-026c-4dd2-9878-0c932f331371"
      },
      "execution_count": null,
      "outputs": [
        {
          "output_type": "stream",
          "name": "stdout",
          "text": [
            "True\n"
          ]
        }
      ]
    },
    {
      "cell_type": "code",
      "source": [
        "x=\"false\"\n",
        "x=bool(x)\n",
        "print(x)"
      ],
      "metadata": {
        "colab": {
          "base_uri": "https://localhost:8080/"
        },
        "id": "bY3gVJPJbmwo",
        "outputId": "72b35d0c-4a8e-4ca4-8e6e-e52457eb0f7c"
      },
      "execution_count": null,
      "outputs": [
        {
          "output_type": "stream",
          "name": "stdout",
          "text": [
            "True\n"
          ]
        }
      ]
    },
    {
      "cell_type": "markdown",
      "source": [
        "Convert from String to int or float\n"
      ],
      "metadata": {
        "id": "XO5bCD-PcZi6"
      }
    },
    {
      "cell_type": "code",
      "source": [
        "x=\"5\"\n",
        "x=int(x)\n",
        "print(x+5)"
      ],
      "metadata": {
        "colab": {
          "base_uri": "https://localhost:8080/"
        },
        "id": "xg7Yf8yxcx03",
        "outputId": "9b1b9b42-0c63-407b-f148-054c8152af1e"
      },
      "execution_count": null,
      "outputs": [
        {
          "output_type": "stream",
          "name": "stdout",
          "text": [
            "10\n"
          ]
        }
      ]
    },
    {
      "cell_type": "code",
      "source": [
        "x=\"5\"\n",
        "x=float(x)\n",
        "print(x+5)"
      ],
      "metadata": {
        "colab": {
          "base_uri": "https://localhost:8080/"
        },
        "id": "x3GtqpFydZ_E",
        "outputId": "30c54573-bc35-48bb-b45a-91228e30a150"
      },
      "execution_count": null,
      "outputs": [
        {
          "output_type": "stream",
          "name": "stdout",
          "text": [
            "10.0\n"
          ]
        }
      ]
    },
    {
      "cell_type": "code",
      "source": [
        "x=\"5.5\"\n",
        "x=int(x)\n",
        "print(x+5)\n",
        "#you must convert to floate firstly and convert to int"
      ],
      "metadata": {
        "colab": {
          "base_uri": "https://localhost:8080/",
          "height": 176
        },
        "id": "B7EAzJygddiW",
        "outputId": "88f29421-d21f-49a9-a8c4-503053ff0127"
      },
      "execution_count": null,
      "outputs": [
        {
          "output_type": "error",
          "ename": "ValueError",
          "evalue": "invalid literal for int() with base 10: '5.5'",
          "traceback": [
            "\u001b[0;31m---------------------------------------------------------------------------\u001b[0m",
            "\u001b[0;31mValueError\u001b[0m                                Traceback (most recent call last)",
            "\u001b[0;32m<ipython-input-30-047e8c530ebd>\u001b[0m in \u001b[0;36m<cell line: 2>\u001b[0;34m()\u001b[0m\n\u001b[1;32m      1\u001b[0m \u001b[0mx\u001b[0m\u001b[0;34m=\u001b[0m\u001b[0;34m\"5.5\"\u001b[0m\u001b[0;34m\u001b[0m\u001b[0;34m\u001b[0m\u001b[0m\n\u001b[0;32m----> 2\u001b[0;31m \u001b[0mx\u001b[0m\u001b[0;34m=\u001b[0m\u001b[0mint\u001b[0m\u001b[0;34m(\u001b[0m\u001b[0mx\u001b[0m\u001b[0;34m)\u001b[0m\u001b[0;34m\u001b[0m\u001b[0;34m\u001b[0m\u001b[0m\n\u001b[0m\u001b[1;32m      3\u001b[0m \u001b[0mprint\u001b[0m\u001b[0;34m(\u001b[0m\u001b[0mx\u001b[0m\u001b[0;34m+\u001b[0m\u001b[0;36m5\u001b[0m\u001b[0;34m)\u001b[0m\u001b[0;34m\u001b[0m\u001b[0;34m\u001b[0m\u001b[0m\n",
            "\u001b[0;31mValueError\u001b[0m: invalid literal for int() with base 10: '5.5'"
          ]
        }
      ]
    },
    {
      "cell_type": "markdown",
      "source": [
        "#if condition\n"
      ],
      "metadata": {
        "id": "jNBNvvqZw22-"
      }
    },
    {
      "cell_type": "code",
      "source": [
        "x=int(input(\"Enter a number: \"))\n",
        "if x > 0:\n",
        "  print(\"x is positive \")\n",
        "elif x == 0:\n",
        "  print(\"x is zero\")\n",
        "else:\n",
        "  print(\"x is negative\")"
      ],
      "metadata": {
        "colab": {
          "base_uri": "https://localhost:8080/"
        },
        "id": "td5egmM9w7yX",
        "outputId": "3ee2e32d-c09d-4756-85be-1274de73428f"
      },
      "execution_count": null,
      "outputs": [
        {
          "output_type": "stream",
          "name": "stdout",
          "text": [
            "Enter a number: 0\n",
            "x is zero\n"
          ]
        }
      ]
    },
    {
      "cell_type": "code",
      "source": [
        "order=50\n",
        "member=True\n",
        "if not (order>100 and member==True):\n",
        "  print(\"You have discount 10%\")\n",
        "elif(order>100 and member==False):\n",
        "  print(\"You have discount 5%\")\n",
        "else:\n",
        "  print(\"No discount\")"
      ],
      "metadata": {
        "colab": {
          "base_uri": "https://localhost:8080/"
        },
        "id": "Cz2uTACRzSms",
        "outputId": "6e2048dc-613d-4ff4-8fc5-356f4c5bc41f"
      },
      "execution_count": null,
      "outputs": [
        {
          "output_type": "stream",
          "name": "stdout",
          "text": [
            "You have discount 10%\n"
          ]
        }
      ]
    },
    {
      "cell_type": "code",
      "source": [
        "num=int(input(\"Enter a number: \"))\n",
        "if num%2==0:\n",
        "  print(\"Even\")\n",
        "else:\n",
        "  print(\"Odd\")"
      ],
      "metadata": {
        "colab": {
          "base_uri": "https://localhost:8080/"
        },
        "id": "ciF4RFcd0mwP",
        "outputId": "d0054e5d-c3a1-47e6-9499-39f7e878b1bd"
      },
      "execution_count": null,
      "outputs": [
        {
          "output_type": "stream",
          "name": "stdout",
          "text": [
            "Enter a number: 0\n",
            "Even\n"
          ]
        }
      ]
    },
    {
      "cell_type": "markdown",
      "source": [
        "#Simple Calculator"
      ],
      "metadata": {
        "id": "hck3hZCh_2j6"
      }
    },
    {
      "cell_type": "code",
      "source": [
        "print(\" **************** Simple Calculator ****************\")\n",
        "number1=float(input(\"Enter First number : \"))\n",
        "number2=float(input(\"Enter Second number : \"))\n",
        "operator=input(\"Enter operator : \")\n",
        "if operator==\"+\":\n",
        "  print(\"Result = \",number1+number2)\n",
        "elif operator==\"-\":\n",
        "  print(\"Result = \",number1-number2)\n",
        "elif operator==\"/\":\n",
        "  print(\"Result = \",number1/number2)\n",
        "elif operator==\"*\":\n",
        "  print(\"Result = \",number1*number2)\n",
        "elif operator==\"//\":\n",
        "  print(\"Result = \",number1//number2)\n",
        "elif operator==\"%\":\n",
        "  result=(int)(number1%number2)\n",
        "  print(\"Result = \",result)\n",
        "else :\n",
        "  print(\"Invalid operator\")"
      ],
      "metadata": {
        "colab": {
          "base_uri": "https://localhost:8080/"
        },
        "id": "zlFGoNSf_6Wm",
        "outputId": "a444965c-e7d4-4a48-e3d7-756b32993813"
      },
      "execution_count": 49,
      "outputs": [
        {
          "output_type": "stream",
          "name": "stdout",
          "text": [
            " **************** Simple Calculator ****************\n",
            "Enter First number : 15\n",
            "Enter Second number : 3\n",
            "Enter operator : %\n",
            "Result =  0\n"
          ]
        }
      ]
    }
  ]
}